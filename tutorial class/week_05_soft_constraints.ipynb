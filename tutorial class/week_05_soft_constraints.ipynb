{
 "cells": [
  {
   "cell_type": "markdown",
   "id": "63e55294",
   "metadata": {},
   "source": [
    "# Soft Constraints\n",
    "\n",
    "In practical control applications, enforcing hard constraints may be problematic since uncertainties in modeling or measurements might make strict constraint satisfaction impossible. To address feasibility issues, we often soften some state constraints. Let us consider the following optimization problem\n",
    "$$\n",
    "\\begin{aligned}\n",
    "    \\min_x\\; &f(x) \\\\\n",
    "    \\text{s.t.}\\; &g(x) \\leq 0.\n",
    "\\end{aligned}\n",
    "$$\n",
    "\n",
    "One approach to incorporating soft constraints is to add an $\\ell_1$-norm penalty for constraint violations into the cost function\n",
    "$$\n",
    "\\min_x\\; f(x) + \\rho \\Vert \\max \\left(0, g(x) \\right) \\Vert_1,\n",
    "$$\n",
    "where $\\rho > 0$ is the penalty weight.\n",
    "The optimization problem above is difficult to solve due to the nonsmooth nature introduced by the $\\max$ operator. To get around this issue, we introduce a slack vector $s$, resulting in \n",
    "$$\n",
    "\\begin{aligned}\n",
    "    \\min_{x, s}\\; &f(x) + \\rho \\Vert s \\Vert_1 \\\\\n",
    "    \\text{s.t.}\\; &g(x) \\leq s \\\\\n",
    "    & s \\geq 0.\n",
    "\\end{aligned} \n",
    "$$\n",
    "Simplifying the $\\ell_1$-norm in the cost function, we obtain\n",
    "$$\n",
    "\\begin{aligned}\n",
    "    \\min_{x, s}\\; &f(x) + \\rho e^\\top s \\\\\n",
    "    \\text{s.t.}\\; &g(x) \\leq s \\\\\n",
    "    & s \\geq 0,\n",
    "\\end{aligned} \n",
    "$$\n",
    "where $e$ is a vector with all elements being $1$."
   ]
  }
 ],
 "metadata": {
  "language_info": {
   "name": "python"
  }
 },
 "nbformat": 4,
 "nbformat_minor": 5
}
