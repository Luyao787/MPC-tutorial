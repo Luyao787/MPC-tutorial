{
 "cells": [
  {
   "cell_type": "markdown",
   "metadata": {},
   "source": [
    "# LQR: Dynamic Programming\n",
    "\n",
    "Consider a standard finite-horizon LQR problem:\n",
    "$$\n",
    "\\begin{aligned}\n",
    "    \\min_{x_{0:N},\\,u_{0:N-1}} &\\sum_{k=0}^{N-1} \\Bigg(\\frac{1}{2}x_k^\\top Q x_k + \\frac{1}{2}u_k^\\top R u_k \\Bigg) + \\frac{1}{2}x_N^T P x_N \\\\\n",
    "    \\textrm{s.t.} \\quad &x_{k+1} = A x_k + B u_k\n",
    "\\end{aligned}\n",
    "$$\n",
    "\n",
    "- Value function (cost-to-go): $\\; V(x) = \\frac{1}{2} x^\\top \\Pi x$\n",
    "\n",
    "- Bellman equation:\n",
    "$$\n",
    "\\begin{aligned}\n",
    "    V(x_k) &= \\min_{u_k} \\quad \\ell(x_k, u_k) + V(x_{k+1}) \\\\\n",
    "    &= \\min_{u_k} \\quad \\frac{1}{2}x_k^\\top Q x_k + \\frac{1}{2}u_k^\\top R u_k + \\frac{1}{2}(A x_k + B u_k)^\\top \\Pi_{k+1} (A x_k + B u_k)  \\\\\n",
    "    &= \\min_{u_k} \\quad \\frac{1}{2}u_k^\\top (R + B^\\top \\Pi_{k+1} B) u_k + x_k^\\top(A^\\top \\Pi_{k+1} B)u_k + \\textcolor{blue}{\\text{constant}} \\\\\n",
    "    &= \\min_{u_k} \\quad Q(x_k, u_k)\n",
    "\\end{aligned}\n",
    "$$\n",
    "\n",
    "- Optimal control input $u_k^*$:\n",
    "$$\n",
    "\\frac{\\partial Q}{\\partial u_k} = (R + B^\\top \\Pi_{k+1} B) u_k^* + B^\\top \\Pi_{k+1} A x_k = 0\n",
    "$$\n",
    "$$\n",
    "\\begin{aligned}\n",
    "    u_k^* &= - (R + B^\\top \\Pi_{k+1} B)^{-1} B^\\top \\Pi_{k+1} A x_k \\\\\n",
    "    & = K_k x_k\n",
    "\\end{aligned}\n",
    "$$\n",
    "\n",
    "- Value function at stage $k$:\n",
    "$$\n",
    "\\begin{aligned}\n",
    "    V(x_k) &= \\frac{1}{2}x_k^\\top Q x_k + \\frac{1}{2}\\red{u_k^{*}}^\\top R \\red{u_k^{*}} + \\frac{1}{2}(A x_k + B \\red{u_k^{*}})^\\top \\Pi_{k+1} (A x_k + B \\red{u_k^{*}}) \\\\\n",
    "    &= \\frac{1}{2}x_k^\\top \\left(  \\underbrace{Q + K_k^\\top R K_k + (A + BK_k)^\\top P_{k+1} (A + BK_k)}_{\\Pi_k}  \\right) x_k \\\\\n",
    "    &= \\frac{1}{2}x_k^\\top \\Pi_k x_k\n",
    "\\end{aligned}\n",
    "$$"
   ]
  },
  {
   "cell_type": "markdown",
   "metadata": {},
   "source": [
    "# LQR: KKT conditions"
   ]
  },
  {
   "cell_type": "code",
   "execution_count": null,
   "metadata": {},
   "outputs": [],
   "source": []
  },
  {
   "cell_type": "markdown",
   "metadata": {},
   "source": []
  },
  {
   "cell_type": "code",
   "execution_count": 34,
   "metadata": {},
   "outputs": [],
   "source": [
    "import numpy as np\n",
    "from scipy.linalg import cho_factor, cho_solve\n",
    "from control import dare\n",
    "\n",
    "def lqr_backward(Q, R, Qf, N):\n",
    "    \"\"\"\n",
    "    Backward pass of the LQR algorithm\n",
    "    \"\"\"\n",
    "    nx = Q.shape[0]\n",
    "    nu = R.shape[0]\n",
    "\n",
    "    Ps = np.zeros((N + 1, nx, nx))\n",
    "    Ks = np.zeros((N, nu, nx))\n",
    "    \n",
    "    Ps[-1, :, :] = Qf\n",
    "    for i in range(N - 1, -1, -1):\n",
    "        P_next = Ps[i + 1, :, :]        \n",
    "        chofac = cho_factor(R + B.T @ P_next @ B)      \n",
    "        K_k = - cho_solve(chofac, B.T @ P_next @ A)        \n",
    "        P_k = Q + K_k.T @ R @ K_k + (A + B @ K_k).T @ P_next @ (A + B @ K_k)\n",
    "        \n",
    "        Ks[i, :, :] = K_k\n",
    "        Ps[i, :, :] = P_k\n",
    "                \n",
    "    return Ks, Ps"
   ]
  },
  {
   "cell_type": "code",
   "execution_count": 54,
   "metadata": {},
   "outputs": [
    {
     "name": "stdout",
     "output_type": "stream",
     "text": [
      "Ks[0]: [[-0.34556462  0.36743129]]\n",
      "eigvals: [0.49388436+0.23518847j 0.49388436-0.23518847j]\n"
     ]
    }
   ],
   "source": [
    "A = np.array([\n",
    "    [4 / 3, -2 / 3], \n",
    "    [1, 0]\n",
    "])\n",
    "B = np.array([1, 0]).reshape(-1, 1)  # TODO\n",
    "R = np.array([0.001]).reshape(-1, 1)  # TODO\n",
    "Q = np.array([\n",
    "    [4 / 9 + 0.001, -2 / 3],\n",
    "    [-2 / 3, 1 + 0.001]\n",
    "])\n",
    "P = Q.copy()\n",
    "\n",
    "Ks, Ps = lqr_backward(Q, R, P, 5)\n",
    "\n",
    "print(f\"Ks[0]: {Ks[0]}\")\n",
    "\n",
    "A_cl = A + B @ Ks[0]\n",
    "eigvals, _ = np.linalg.eig(A_cl)\n",
    "print(f\"eigvals: {eigvals}\")\n",
    "\n"
   ]
  },
  {
   "cell_type": "code",
   "execution_count": 43,
   "metadata": {},
   "outputs": [
    {
     "name": "stdout",
     "output_type": "stream",
     "text": [
      "K_inf: [[-0.6682962  0.6660034]]\n"
     ]
    }
   ],
   "source": [
    "_, _, K_inf = dare(A, B, Q, R)\n",
    "K_inf = -K_inf\n",
    "\n",
    "print(f\"K_inf: {K_inf}\")"
   ]
  },
  {
   "cell_type": "markdown",
   "metadata": {},
   "source": []
  },
  {
   "cell_type": "code",
   "execution_count": null,
   "metadata": {},
   "outputs": [],
   "source": []
  }
 ],
 "metadata": {
  "kernelspec": {
   "display_name": "base",
   "language": "python",
   "name": "python3"
  },
  "language_info": {
   "codemirror_mode": {
    "name": "ipython",
    "version": 3
   },
   "file_extension": ".py",
   "mimetype": "text/x-python",
   "name": "python",
   "nbconvert_exporter": "python",
   "pygments_lexer": "ipython3",
   "version": "3.8.17"
  }
 },
 "nbformat": 4,
 "nbformat_minor": 2
}
