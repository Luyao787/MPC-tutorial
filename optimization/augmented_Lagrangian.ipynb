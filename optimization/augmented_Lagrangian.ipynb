{
 "cells": [
  {
   "cell_type": "markdown",
   "id": "ae98b51b",
   "metadata": {},
   "source": [
    "In this notebook, we introduce the augmented Lagrangian method and its variants. We consider the following optimization problem\n",
    "$$\n",
    "\\begin{aligned}\n",
    "    \\min_{x}\\; &f(x) \\\\\n",
    "    \\text{s.t.}\\; &h(x) \\leq 0.\n",
    "\\end{aligned}\n",
    "$$\n",
    "By introducing the slack vector $s$, we rewrite the optimization problem as\n",
    "$$\n",
    "\\begin{aligned}\n",
    "    \\min_{x, s}\\; &f(x) \\\\\n",
    "    \\text{s.t.}\\; & \\underbrace{h(x) + [s]^2}_{g(x, s)} = 0,\n",
    "\\end{aligned}\n",
    "$$\n",
    "where $[\\cdot]^2$ represents element-wise squaring. To derive the augmented Lagrangian (AL) method, we consider the min-max formulation\n",
    "$$\n",
    "\\min_{x, s} \\max_{\\lambda}\\; f(x) + \\lambda^\\top g(x, s),\n",
    "$$\n",
    "where $\\lambda$ is the Lagrange multiplier vector. \n",
    "\n",
    "$$\n",
    "\\min_{x, s} \\max_{\\lambda}\\; f(x) + \\lambda^\\top g(x, s) - \\frac{1}{2} \\Vert \\lambda - \\bar{\\lambda} \\Vert^2\n",
    "$$\n",
    "We can now solve the inner maximization problem\n",
    "$$\n",
    "\\lambda^*(\\bar{\\lambda}) = \\bar{\\lambda} + \\rho g(x, s).\n",
    "$$\n",
    "\n",
    "$$\n",
    "\\begin{aligned}\n",
    "&\\min_{x, s} \\max_{\\lambda}\\; f(x) + \\lambda^\\top g(x, s) - \\frac{1}{2} \\Vert \\lambda - \\bar{\\lambda} \\Vert^2 \\\\\n",
    "= &\\min_{x, s}\\; f(x) + \\lambda^*(\\bar{\\lambda})^\\top g(x, s) - \\frac{1}{2} \\Vert \\lambda^*(\\bar{\\lambda}) - \\bar{\\lambda} \\Vert^2 \\\\\n",
    "= &\\min_{x, s}\\; f(x) + \\left(\\bar{\\lambda} + \\rho g(x, s)\\right)^\\top g(x, s) - \\frac{\\rho}{2} \\left\\Vert g(x, s) \\right\\Vert^2 \\\\\n",
    "= &\\min_{x, s}\\; f(x) + \\bar{\\lambda}^\\top g(x, s) + \\frac{\\rho}{2} \\left\\Vert g(x, s) \\right\\Vert^2 \\\\\n",
    "= &\\min_{x, s}\\; f(x) + \\frac{\\rho}{2} \\left\\Vert g(x, s) + \\frac{\\bar{\\lambda}}{\\rho} \\right\\Vert^2 - \\frac{1}{2\\rho} \\Vert \\bar{\\lambda} \\Vert^2 \\\\\n",
    "= &\\min_{x} \\min_{s} f(x) + \\frac{\\rho}{2} \\left\\Vert h(x) + [s]^2 + \\frac{\\bar{\\lambda}}{\\rho} \\right\\Vert^2 - \\frac{1}{2\\rho} \\Vert \\bar{\\lambda} \\Vert^2 \\\\\n",
    "= &\\min_{x}\\; f(x) + \\frac{\\rho}{2} \\left\\Vert \\max\\left( h(x) + \\frac{\\lambda}{\\rho}, 0 \\right) \\right\\Vert^2 - \\frac{1}{2\\rho} \\Vert \\bar{\\lambda} \\Vert^2\n",
    "\\end{aligned}\n",
    "$$\n",
    "\n",
    "$$\n",
    "s^{*2}_i = \n",
    "\\begin{cases}\n",
    "    0\\quad &\\text{if}\\;  g_i(x) + \\frac{\\bar{\\lambda}}{\\rho} < 0\\\\\n",
    "    -g_i(x) - \\frac{\\bar{\\lambda}}{\\rho}\\quad &\\text{if}\\;  g_i(x) + \\frac{\\bar{\\lambda}}{\\rho} \\geq 0\n",
    "\\end{cases}\n",
    "$$\n"
   ]
  },
  {
   "cell_type": "markdown",
   "id": "59387a9e",
   "metadata": {},
   "source": []
  }
 ],
 "metadata": {
  "language_info": {
   "name": "python"
  }
 },
 "nbformat": 4,
 "nbformat_minor": 5
}
